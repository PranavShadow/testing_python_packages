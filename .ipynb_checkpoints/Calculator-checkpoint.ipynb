{
 "cells": [
  {
   "cell_type": "code",
   "execution_count": 22,
   "id": "39e8e756-1785-489f-8109-0ad3aaa2b0d4",
   "metadata": {},
   "outputs": [],
   "source": [
    "import tkinter as tk\n",
    "\n",
    "def on_button_click(value):\n",
    "    current_text = entry_var.get()\n",
    "    entry_var.set(current_text+str(value))   "
   ]
  },
  {
   "cell_type": "code",
   "execution_count": 23,
   "id": "ab510d76-1233-4ca5-bcf5-c69cd01e606e",
   "metadata": {},
   "outputs": [],
   "source": [
    "def clear_entry():\n",
    "    entry_var.set(\"\")"
   ]
  },
  {
   "cell_type": "code",
   "execution_count": 24,
   "id": "c69abdcd-c7d5-4662-aa09-b7e27895fae2",
   "metadata": {},
   "outputs": [],
   "source": [
    "def calculate_result():\n",
    "    try:\n",
    "        result = eval(entry_var.get())\n",
    "        entry_var.set(result)\n",
    "    except Exception as e:\n",
    "        entry_var.set(\"Error\")"
   ]
  },
  {
   "cell_type": "code",
   "execution_count": 25,
   "id": "6ca69c02-1d58-40fd-a46f-19f748917103",
   "metadata": {},
   "outputs": [
    {
     "data": {
      "text/plain": [
       "''"
      ]
     },
     "execution_count": 25,
     "metadata": {},
     "output_type": "execute_result"
    }
   ],
   "source": [
    "#Create the Main Window\n",
    "root=tk.Tk()\n",
    "root.title(\"Basic Calculator\")"
   ]
  },
  {
   "cell_type": "code",
   "execution_count": 26,
   "id": "3e01f469-0758-4aa0-a99a-9e8f3c297f24",
   "metadata": {},
   "outputs": [],
   "source": [
    "# Entry widget for display\n",
    "entry_var = tk.StringVar()\n",
    "entry = tk.Entry(root, textvariable=entry_var, font=('Arial', 14), justify='right', bd=10)\n",
    "entry.grid(row=0, column=0, columnspan=4)"
   ]
  },
  {
   "cell_type": "code",
   "execution_count": 27,
   "id": "41869040-02ab-418a-9c8c-c730fa096240",
   "metadata": {},
   "outputs": [],
   "source": [
    "# Buttons for numbers and operations\n",
    "buttons = [\n",
    "'7', '8', '9', '/','4', '5', '6', '*',\n",
    "'1', '2', '3', '-',\n",
    "'0', '.', 'Raand', '+'\n",
    "]\n"
   ]
  },
  {
   "cell_type": "code",
   "execution_count": 28,
   "id": "73fb0390-5425-4409-a5f9-f9da2f6ae57d",
   "metadata": {},
   "outputs": [],
   "source": [
    "row_val = 1\n",
    "col_val = 0"
   ]
  },
  {
   "cell_type": "code",
   "execution_count": 29,
   "id": "9357b3da-eeaa-4f17-9db3-7a46053faf2f",
   "metadata": {},
   "outputs": [],
   "source": [
    "for button in buttons:\n",
    "    tk.Button(root, text=button, padx=20, pady=20, font=('Arial', 14), command=lambda b=button: on_button_click(b)).grid(row=row_val, column=col_val)\n",
    "    col_val += 1\n",
    "    if col_val > 3:\n",
    "        col_val = 0\n",
    "        row_val += 1"
   ]
  },
  {
   "cell_type": "code",
   "execution_count": 30,
   "id": "461d8348-f3d5-44af-8e33-59ece5efb5f6",
   "metadata": {},
   "outputs": [],
   "source": [
    "# Clear button\n",
    "tk.Button(root, text='C', padx=20, pady=20, font=('Arial', 14), command=clear_entry).grid(row=row_val, column=col_val, columnspan=2)"
   ]
  },
  {
   "cell_type": "code",
   "execution_count": 31,
   "id": "974d7596-845b-4afe-8ff8-f9d5b0ba4c9a",
   "metadata": {},
   "outputs": [],
   "source": [
    "# Equal button\n",
    "tk.Button(root, text='=', padx=20, pady=20, font=('Arial', 14), command=calculate_result).grid(row=row_val, column=col_val + 2, columnspan=2)"
   ]
  },
  {
   "cell_type": "code",
   "execution_count": null,
   "id": "9df5a109-d0da-4690-8116-844477108605",
   "metadata": {},
   "outputs": [],
   "source": [
    "# Run the Tkinter event loop\n",
    "root.mainloop()"
   ]
  },
  {
   "cell_type": "code",
   "execution_count": null,
   "id": "0f507a98-fc44-4470-8450-d6b2aa97f5af",
   "metadata": {},
   "outputs": [],
   "source": []
  }
 ],
 "metadata": {
  "kernelspec": {
   "display_name": "Python 3 (ipykernel)",
   "language": "python",
   "name": "python3"
  },
  "language_info": {
   "codemirror_mode": {
    "name": "ipython",
    "version": 3
   },
   "file_extension": ".py",
   "mimetype": "text/x-python",
   "name": "python",
   "nbconvert_exporter": "python",
   "pygments_lexer": "ipython3",
   "version": "3.13.1"
  }
 },
 "nbformat": 4,
 "nbformat_minor": 5
}
