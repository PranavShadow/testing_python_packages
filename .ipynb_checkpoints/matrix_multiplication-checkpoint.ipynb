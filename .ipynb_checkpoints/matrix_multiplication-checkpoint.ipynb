{
 "cells": [
  {
   "cell_type": "code",
   "execution_count": 1,
   "id": "8627c34c-82d6-447b-b9d2-d6a2b805c91c",
   "metadata": {},
   "outputs": [],
   "source": [
    "import numpy as np"
   ]
  },
  {
   "cell_type": "code",
   "execution_count": 2,
   "id": "3a379529-a726-42a7-b6f2-c8429a8b7157",
   "metadata": {},
   "outputs": [],
   "source": [
    "matrix_a = [[1,2,3],[3,4,5]]"
   ]
  },
  {
   "cell_type": "code",
   "execution_count": 3,
   "id": "75f67bbc-c310-4da5-bac3-51ff9f01a9b6",
   "metadata": {},
   "outputs": [],
   "source": [
    "matrix_b = [[7,8],[8,9],[10,11]]"
   ]
  },
  {
   "cell_type": "code",
   "execution_count": 4,
   "id": "214f28ba-03e2-4d90-9c21-cfd038817f09",
   "metadata": {},
   "outputs": [],
   "source": [
    "matrix_ab = np.dot(matrix_a,matrix_b)"
   ]
  },
  {
   "cell_type": "code",
   "execution_count": 5,
   "id": "255595b3-c4e9-4b6e-a564-a04f3f855675",
   "metadata": {},
   "outputs": [
    {
     "name": "stdout",
     "output_type": "stream",
     "text": [
      "Matrix A\n"
     ]
    }
   ],
   "source": [
    "print(\"Matrix A\")"
   ]
  },
  {
   "cell_type": "code",
   "execution_count": 6,
   "id": "edd93690-a0c3-466f-9255-b0477eeae631",
   "metadata": {},
   "outputs": [
    {
     "name": "stdout",
     "output_type": "stream",
     "text": [
      "[[1, 2, 3], [3, 4, 5]]\n"
     ]
    }
   ],
   "source": [
    "print(matrix_a)"
   ]
  },
  {
   "cell_type": "code",
   "execution_count": 7,
   "id": "e5bdad64-b0eb-40db-8271-a426725e89f7",
   "metadata": {},
   "outputs": [
    {
     "name": "stdout",
     "output_type": "stream",
     "text": [
      "Matrix B\n"
     ]
    }
   ],
   "source": [
    "print(\"Matrix B\")"
   ]
  },
  {
   "cell_type": "code",
   "execution_count": 8,
   "id": "94976244-16eb-48b1-8dda-4340669cdff2",
   "metadata": {},
   "outputs": [
    {
     "name": "stdout",
     "output_type": "stream",
     "text": [
      "[[7, 8], [8, 9], [10, 11]]\n"
     ]
    }
   ],
   "source": [
    "print(matrix_b)"
   ]
  },
  {
   "cell_type": "code",
   "execution_count": 9,
   "id": "908b3fdc-8464-4018-9da1-520cc78e9ea5",
   "metadata": {},
   "outputs": [
    {
     "name": "stdout",
     "output_type": "stream",
     "text": [
      "Multiplied Matrix i.e AB\n"
     ]
    }
   ],
   "source": [
    "print(\"Multiplied Matrix i.e AB\")"
   ]
  },
  {
   "cell_type": "code",
   "execution_count": 10,
   "id": "1dc08b6c-9ae1-416c-b2dd-9cd783dbd1f7",
   "metadata": {},
   "outputs": [
    {
     "name": "stdout",
     "output_type": "stream",
     "text": [
      "[[ 53  59]\n",
      " [103 115]]\n"
     ]
    }
   ],
   "source": [
    "print(matrix_ab)"
   ]
  },
  {
   "cell_type": "code",
   "execution_count": null,
   "id": "b49a66b9-6892-4b22-90fd-1bb9f71bce47",
   "metadata": {},
   "outputs": [],
   "source": []
  }
 ],
 "metadata": {
  "kernelspec": {
   "display_name": "Python 3 (ipykernel)",
   "language": "python",
   "name": "python3"
  },
  "language_info": {
   "codemirror_mode": {
    "name": "ipython",
    "version": 3
   },
   "file_extension": ".py",
   "mimetype": "text/x-python",
   "name": "python",
   "nbconvert_exporter": "python",
   "pygments_lexer": "ipython3",
   "version": "3.13.1"
  }
 },
 "nbformat": 4,
 "nbformat_minor": 5
}
