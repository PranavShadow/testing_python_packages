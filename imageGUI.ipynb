{
 "cells": [
  {
   "cell_type": "code",
   "execution_count": 4,
   "id": "765dac0f-86ff-454b-8450-61e42b5e016e",
   "metadata": {},
   "outputs": [],
   "source": [
    "import tkinter as tk\n",
    "from tkinter import filedialog\n",
    "from PIL import Image, ImageTk\n",
    "\n",
    "def open_file_dialog():\n",
    "    file_path = filedialog.askopenfilename(filetypes=[(\"Image files\", \"*.png;*.jpg;*.jpeg;*.gif;*.bmp\")])\n",
    "    if file_path:\n",
    "        display_image(file_path)\n",
    "        \n",
    "def display_image(file_path):\n",
    "    image = Image.open(file_path)\n",
    "    image.thumbnail((300, 300)) # Resize the image to fit within a 300x300 box\n",
    "    photo = ImageTk.PhotoImage(image)\n",
    "    # Update the label with the new image\n",
    "    image_label.config(image=photo)\n",
    "    image_label.image = photo\n",
    "\n",
    "# Create the main window\n",
    "root = tk.Tk()\n",
    "root.title(\"Image Viewer\")\n",
    "\n",
    "# Button to open the file dialog\n",
    "open_button = tk.Button(root, text=\"Open Image\", command=open_file_dialog)\n",
    "open_button.pack(pady=10)\n",
    "\n",
    "# Label to display the selected image\n",
    "image_label = tk.Label(root)\n",
    "image_label.pack()\n",
    "\n",
    "# Run the Tkinter event loop\n",
    "root.mainloop()"
   ]
  },
  {
   "cell_type": "code",
   "execution_count": null,
   "id": "146d408b-d7b0-4099-8e27-df2807fe02c5",
   "metadata": {},
   "outputs": [],
   "source": []
  }
 ],
 "metadata": {
  "kernelspec": {
   "display_name": "Python 3 (ipykernel)",
   "language": "python",
   "name": "python3"
  },
  "language_info": {
   "codemirror_mode": {
    "name": "ipython",
    "version": 3
   },
   "file_extension": ".py",
   "mimetype": "text/x-python",
   "name": "python",
   "nbconvert_exporter": "python",
   "pygments_lexer": "ipython3",
   "version": "3.13.1"
  }
 },
 "nbformat": 4,
 "nbformat_minor": 5
}
