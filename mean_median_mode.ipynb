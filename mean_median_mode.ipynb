{
 "cells": [
  {
   "cell_type": "code",
   "execution_count": 4,
   "id": "6a23c0e8-67e5-428a-9137-fd9add8e2e2d",
   "metadata": {},
   "outputs": [
    {
     "name": "stdout",
     "output_type": "stream",
     "text": [
      "Array:\n",
      "[41 54  8 81 78]\n",
      "The Mean of the [41 54  8 81 78] is 52.4\n",
      "The Median of the [41 54  8 81 78] is 54.0\n",
      "The Standard Deviation of the [41 54  8 81 78] is 26.747710182368884\n"
     ]
    }
   ],
   "source": [
    "import numpy as np\n",
    "\n",
    "def calculate_mean_median_std(random_array):\n",
    "    mean_value = np.mean(random_array)\n",
    "    median_value = np.median(random_array)\n",
    "    std_value = np.std(random_array)\n",
    "    return mean_value, median_value, std_value\n",
    "\n",
    "#Generate Random Array\n",
    "random_array = np.random.randint(1,100,5)\n",
    "mean, median, std = calculate_mean_median_std(random_array)\n",
    "\n",
    "#Print all the data\n",
    "print(\"Array:\")\n",
    "print(random_array)\n",
    "print(f\"The Mean of the {random_array} is {mean}\")\n",
    "print(f\"The Median of the {random_array} is {median}\")\n",
    "print(f\"The Standard Deviation of the {random_array} is {std}\")\n",
    "\n"
   ]
  },
  {
   "cell_type": "code",
   "execution_count": null,
   "id": "f37b83ea-de3f-4a26-b515-bed0ff7a6437",
   "metadata": {},
   "outputs": [],
   "source": []
  },
  {
   "cell_type": "code",
   "execution_count": null,
   "id": "8c4a9b9c-ae55-4ff8-9d8f-0a9af1b29f82",
   "metadata": {},
   "outputs": [],
   "source": []
  }
 ],
 "metadata": {
  "kernelspec": {
   "display_name": "Python 3 (ipykernel)",
   "language": "python",
   "name": "python3"
  },
  "language_info": {
   "codemirror_mode": {
    "name": "ipython",
    "version": 3
   },
   "file_extension": ".py",
   "mimetype": "text/x-python",
   "name": "python",
   "nbconvert_exporter": "python",
   "pygments_lexer": "ipython3",
   "version": "3.13.1"
  }
 },
 "nbformat": 4,
 "nbformat_minor": 5
}
