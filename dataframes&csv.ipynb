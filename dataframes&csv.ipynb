{
 "cells": [
  {
   "cell_type": "code",
   "execution_count": 18,
   "id": "c0dac310-fdd6-4858-8f32-10f0bc2723e3",
   "metadata": {},
   "outputs": [
    {
     "name": "stdout",
     "output_type": "stream",
     "text": [
      "  Student Name  Math  English  Science\n",
      "0       Pranav   100      100      100\n",
      "1        Harsh    99      100       80\n",
      "2        Yasir     9       95        0\n",
      "3     Kartikey    90       85       90\n",
      "4      Abhinav    95       85       95\n",
      "5          Dev    90       85       92\n",
      "\n",
      " Basic Statistics for the Column 'Math' is:\n",
      "count      6.000000\n",
      "mean      80.500000\n",
      "std       35.285975\n",
      "min        9.000000\n",
      "25%       90.000000\n",
      "50%       92.500000\n",
      "75%       98.000000\n",
      "max      100.000000\n",
      "Name: Math, dtype: float64\n"
     ]
    }
   ],
   "source": [
    "import pandas as pd\n",
    "import seaborn as sns\n",
    "\n",
    "df = pd.read_csv(\"Sample Data.csv\")\n",
    "print(df.head(10))\n",
    "\n",
    "column_name = \"Math\"\n",
    "column_stats = df[column_name].describe()\n",
    "\n",
    "print(f\"\\n Basic Statistics for the Column '{column_name}' is:\")\n",
    "print(column_stats)\n",
    "\n",
    "\n"
   ]
  },
  {
   "cell_type": "code",
   "execution_count": null,
   "id": "1e731504-8b07-43e0-a3a4-4a16d270fbfe",
   "metadata": {},
   "outputs": [],
   "source": []
  }
 ],
 "metadata": {
  "kernelspec": {
   "display_name": "Python 3 (ipykernel)",
   "language": "python",
   "name": "python3"
  },
  "language_info": {
   "codemirror_mode": {
    "name": "ipython",
    "version": 3
   },
   "file_extension": ".py",
   "mimetype": "text/x-python",
   "name": "python",
   "nbconvert_exporter": "python",
   "pygments_lexer": "ipython3",
   "version": "3.13.1"
  }
 },
 "nbformat": 4,
 "nbformat_minor": 5
}
