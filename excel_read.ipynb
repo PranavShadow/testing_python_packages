{
 "cells": [
  {
   "cell_type": "code",
   "execution_count": 6,
   "id": "bc93bf3e-b62c-4e9d-b806-5de1ae240101",
   "metadata": {},
   "outputs": [
    {
     "name": "stdout",
     "output_type": "stream",
     "text": [
      "Analysis Results saved to output_results.xlsx\n"
     ]
    }
   ],
   "source": [
    "import pandas as pd\n",
    "\n",
    "#Read data from Excel spreadsheet\n",
    "input_excel_path = 'Random Data.xlsx'\n",
    "df = pd.read_excel(input_excel_path)\n",
    "\n",
    "column_means = df.mean()\n",
    "result_df = pd.DataFrame({'Column': column_means.index, 'Mean': column_means.values})\n",
    "\n",
    "output_excel_path = 'output_results.xlsx'\n",
    "result_df.to_excel(output_excel_path, index=False)\n",
    "\n",
    "print(f\"Analysis Results saved to {output_excel_path}\")"
   ]
  },
  {
   "cell_type": "code",
   "execution_count": null,
   "id": "392e18ab-82bd-458e-be4c-e2f89d504476",
   "metadata": {},
   "outputs": [],
   "source": []
  }
 ],
 "metadata": {
  "kernelspec": {
   "display_name": "Python 3 (ipykernel)",
   "language": "python",
   "name": "python3"
  },
  "language_info": {
   "codemirror_mode": {
    "name": "ipython",
    "version": 3
   },
   "file_extension": ".py",
   "mimetype": "text/x-python",
   "name": "python",
   "nbconvert_exporter": "python",
   "pygments_lexer": "ipython3",
   "version": "3.13.1"
  }
 },
 "nbformat": 4,
 "nbformat_minor": 5
}
